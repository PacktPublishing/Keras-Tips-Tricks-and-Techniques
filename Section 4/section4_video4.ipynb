{
 "cells": [
  {
   "cell_type": "markdown",
   "metadata": {},
   "source": [
    "# Testing out text generation\n",
    "\n",
    "This notebook explores how to load the trained model for text generation and how to pass in a seed sentence to get some predicted text back."
   ]
  },
  {
   "cell_type": "code",
   "execution_count": 6,
   "metadata": {},
   "outputs": [],
   "source": [
    "from keras.models import load_model\n",
    "\n",
    "model = load_model('shakespeare_generator.h5')"
   ]
  },
  {
   "cell_type": "code",
   "execution_count": 7,
   "metadata": {},
   "outputs": [
    {
     "name": "stdout",
     "output_type": "stream",
     "text": [
      "corpus length: 5573152\n"
     ]
    }
   ],
   "source": [
    "import numpy as np\n",
    "import random\n",
    "import sys\n",
    "import io\n",
    "\n",
    "path = 'shakespeare.txt'\n",
    "with io.open(path, encoding='utf-8') as f:\n",
    "    text = f.read().lower()\n",
    "print('corpus length:', len(text))\n"
   ]
  },
  {
   "cell_type": "code",
   "execution_count": 8,
   "metadata": {},
   "outputs": [
    {
     "name": "stdout",
     "output_type": "stream",
     "text": [
      "total chars: 79\n"
     ]
    }
   ],
   "source": [
    "chars = sorted(list(set(text)))\n",
    "char_indices = dict((c, i) for i, c in enumerate(chars))\n",
    "indices_char = dict((i, c) for i, c in enumerate(chars))\n",
    "print('total chars:', len(chars))"
   ]
  },
  {
   "cell_type": "code",
   "execution_count": 9,
   "metadata": {},
   "outputs": [
    {
     "name": "stdout",
     "output_type": "stream",
     "text": [
      "['\\t', '\\n', ' ', '!', '\"', '#', '$', '%', '&', \"'\", '(', ')', '*', ',', '-', '.', '/', '0', '1', '2', '3', '4', '5', '6', '7', '8', '9', ':', ';', '?', '@', '[', '\\\\', ']', '_', '`', 'a', 'b', 'c', 'd', 'e', 'f', 'g', 'h', 'i', 'j', 'k', 'l', 'm', 'n', 'o', 'p', 'q', 'r', 's', 't', 'u', 'v', 'w', 'x', 'y', 'z', '|', '}', 'à', 'â', 'æ', 'ç', 'è', 'é', 'ê', 'î', 'œ', '—', '‘', '’', '“', '”', '\\ufeff']\n"
     ]
    }
   ],
   "source": [
    "print(chars)"
   ]
  },
  {
   "cell_type": "code",
   "execution_count": 10,
   "metadata": {},
   "outputs": [],
   "source": [
    "def sampler(prediction, temperature):\n",
    "    prediction = np.asarray(prediction).astype('float64')\n",
    "    prediction = np.log(prediction) / temperature\n",
    "    exp_prediction = np.exp(prediction)\n",
    "    final_pred = exp_prediction / np.sum(exp_prediction)\n",
    "    prob = np.random.multinomial(1, final_pred, 1)\n",
    "    return np.argmax(prob)"
   ]
  },
  {
   "cell_type": "code",
   "execution_count": 11,
   "metadata": {},
   "outputs": [
    {
     "name": "stdout",
     "output_type": "stream",
     "text": [
      "----- diversity: 0.2\n",
      "----- Generating with seed: \"it blesseth him that gives and him that \"\n",
      "it blesseth him that gives and him that \n",
      "is the duke of the duke of the state.\n",
      "\n",
      " [_exit._]\n",
      "\n",
      "\n",
      "      don john.\n",
      "      the country to the court of the state,\n",
      "    and he shall be so the duke of the man,\n",
      "    and the beauty to the state of the doors.\n",
      "    what is the word of the sun and the sense.\n",
      "    the world the state to the court of the state\n",
      "    that i have i love the court of the duke of death.\n",
      "    and so much and with the states and the s\n",
      "----- diversity: 0.5\n",
      "----- Generating with seed: \"it blesseth him that gives and him that \"\n",
      "it blesseth him that gives and him that \n",
      "i will be appease.\n",
      "    let me the tongue of the desile our trive\n",
      "    the matter mangly man hath for the poor to command?\n",
      "\n",
      "servant.\n",
      "i am flow’rs me, and the gallant short,\n",
      "who companion and manners and made lies,\n",
      "    who is than he sweet that in which i count,\n",
      "    to this for better through of our sweet for her sud.\n",
      "  sicinius. i will shall speak the soul is that to the world him,\n",
      "that i must thou \n",
      "----- diversity: 1.0\n",
      "----- Generating with seed: \"it blesseth him that gives and him that \"\n",
      "it blesseth him that gives and him that \n",
      "wit.\n",
      "most graus in then, iwhave hand what of niece\n",
      "moted hole trusts between's of children!\n",
      "\n",
      "\n",
      "      youn edia.\n",
      "cut stock-lord, hence doant follows you’s right as the faithoug—\n",
      "offends a fellow with him of death- and you.\n",
      "    cust it by direct,\n",
      "            'tis that from full and any compon'd was to denier.\n",
      "  titum.\n",
      "  benowned rifus, would a towning sight a call;\n",
      "    and which our roar it.\n",
      "  let's.\n",
      "----- diversity: 1.2\n",
      "----- Generating with seed: \"it blesseth him that gives and him that \"\n",
      "it blesseth him that gives and him that \n",
      "are required tiviss one,\n",
      "or clooden amoog’d.\n",
      "\n",
      "trunct.\n",
      "serv’d, i make old tause\n",
      "before they doys towards his swost, how do.\n",
      "\n",
      "busanadus.\n",
      "i can\n",
      "in uttous\n",
      "‘withster wehon.—gold,\n",
      "  bright given, lucent'd for schides, to bind man:\n",
      "i walde to thee fliutais soil, you maid.\n",
      "  jadry. [losk] all, good nyman. i they so disout of whas,\n",
      "you convilaus tolateth bjaxary;     but father?\n",
      "  admitag. iffick, i amwar.\n"
     ]
    }
   ],
   "source": [
    "maxlen = 40\n",
    "\n",
    "for diversity in [0.2, 0.5, 1.0, 1.2]:\n",
    "    print('----- diversity:', diversity)\n",
    "    \n",
    "    generated = ''\n",
    "    sentence = 'it blesseth him that gives and him that '\n",
    "    generated += sentence\n",
    "    print('----- Generating with seed: \"' + sentence + '\"')\n",
    "    print(generated)\n",
    "\n",
    "    for i in range(400):\n",
    "        x_pred = np.zeros((1, maxlen, len(chars)))\n",
    "        for t, char in enumerate(sentence):\n",
    "            x_pred[0, t, char_indices[char]] = 1.\n",
    "\n",
    "        preds = model.predict(x_pred, verbose=0)[0]\n",
    "        next_index = sampler(preds, diversity)\n",
    "        next_char = indices_char[next_index]\n",
    "\n",
    "        sentence = sentence[1:] + next_char\n",
    "        sys.stdout.write(next_char)\n",
    "        sys.stdout.flush()\n",
    "\n",
    "    print()\n"
   ]
  },
  {
   "cell_type": "code",
   "execution_count": null,
   "metadata": {},
   "outputs": [],
   "source": []
  }
 ],
 "metadata": {
  "kernelspec": {
   "display_name": "Python 3",
   "language": "python",
   "name": "python3"
  },
  "language_info": {
   "codemirror_mode": {
    "name": "ipython",
    "version": 3
   },
   "file_extension": ".py",
   "mimetype": "text/x-python",
   "name": "python",
   "nbconvert_exporter": "python",
   "pygments_lexer": "ipython3",
   "version": "3.7.4"
  }
 },
 "nbformat": 4,
 "nbformat_minor": 2
}
