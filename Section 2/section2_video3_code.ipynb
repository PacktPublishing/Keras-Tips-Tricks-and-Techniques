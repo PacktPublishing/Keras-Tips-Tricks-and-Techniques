{
 "cells": [
  {
   "cell_type": "markdown",
   "metadata": {},
   "source": [
    "# Training with augmented datasets\n",
    "To test the effectiveness of the augmentation let's train our model on with a smaller starting set of images and use augmentation to increase it. We will compare it to 1000 images without augmentation.\n"
   ]
  },
  {
   "cell_type": "code",
   "execution_count": 1,
   "metadata": {},
   "outputs": [
    {
     "name": "stderr",
     "output_type": "stream",
     "text": [
      "Using TensorFlow backend.\n"
     ]
    }
   ],
   "source": [
    "import keras\n",
    "import numpy as np\n",
    "from keras.datasets import fashion_mnist\n",
    "from keras.preprocessing.image import ImageDataGenerator\n",
    "from keras.preprocessing.image import (\n",
    "    random_rotation, random_shift, random_shear, random_zoom,\n",
    "    random_channel_shift, img_to_array, ImageDataGenerator)\n",
    "from keras.models import Model, Sequential\n",
    "from keras.layers import Dense, Dropout, Flatten, Conv2D, MaxPool2D, BatchNormalization\n",
    "from keras.optimizers import Adam\n",
    "from keras.utils.np_utils import to_categorical # convert to one-hot-encoding\n",
    "\n"
   ]
  },
  {
   "cell_type": "markdown",
   "metadata": {},
   "source": [
    "Let's define our model architecture"
   ]
  },
  {
   "cell_type": "code",
   "execution_count": 2,
   "metadata": {},
   "outputs": [
    {
     "name": "stderr",
     "output_type": "stream",
     "text": [
      "WARNING: Logging before flag parsing goes to stderr.\n",
      "W1022 18:03:43.013227 13064 deprecation_wrapper.py:119] From C:\\Users\\jdeha\\Anaconda3\\envs\\keras\\lib\\site-packages\\keras\\backend\\tensorflow_backend.py:74: The name tf.get_default_graph is deprecated. Please use tf.compat.v1.get_default_graph instead.\n",
      "\n",
      "W1022 18:03:43.065688 13064 deprecation_wrapper.py:119] From C:\\Users\\jdeha\\Anaconda3\\envs\\keras\\lib\\site-packages\\keras\\backend\\tensorflow_backend.py:517: The name tf.placeholder is deprecated. Please use tf.compat.v1.placeholder instead.\n",
      "\n",
      "W1022 18:03:43.074252 13064 deprecation_wrapper.py:119] From C:\\Users\\jdeha\\Anaconda3\\envs\\keras\\lib\\site-packages\\keras\\backend\\tensorflow_backend.py:4138: The name tf.random_uniform is deprecated. Please use tf.random.uniform instead.\n",
      "\n",
      "W1022 18:03:43.163654 13064 deprecation_wrapper.py:119] From C:\\Users\\jdeha\\Anaconda3\\envs\\keras\\lib\\site-packages\\keras\\backend\\tensorflow_backend.py:3976: The name tf.nn.max_pool is deprecated. Please use tf.nn.max_pool2d instead.\n",
      "\n",
      "W1022 18:03:43.391737 13064 deprecation_wrapper.py:119] From C:\\Users\\jdeha\\Anaconda3\\envs\\keras\\lib\\site-packages\\keras\\optimizers.py:790: The name tf.train.Optimizer is deprecated. Please use tf.compat.v1.train.Optimizer instead.\n",
      "\n",
      "W1022 18:03:43.410292 13064 deprecation_wrapper.py:119] From C:\\Users\\jdeha\\Anaconda3\\envs\\keras\\lib\\site-packages\\keras\\backend\\tensorflow_backend.py:3295: The name tf.log is deprecated. Please use tf.math.log instead.\n",
      "\n"
     ]
    },
    {
     "name": "stdout",
     "output_type": "stream",
     "text": [
      "_________________________________________________________________\n",
      "Layer (type)                 Output Shape              Param #   \n",
      "=================================================================\n",
      "conv2d_1 (Conv2D)            (None, 26, 26, 32)        320       \n",
      "_________________________________________________________________\n",
      "conv2d_2 (Conv2D)            (None, 25, 25, 32)        4128      \n",
      "_________________________________________________________________\n",
      "max_pooling2d_1 (MaxPooling2 (None, 12, 12, 32)        0         \n",
      "_________________________________________________________________\n",
      "conv2d_3 (Conv2D)            (None, 10, 10, 64)        18496     \n",
      "_________________________________________________________________\n",
      "conv2d_4 (Conv2D)            (None, 8, 8, 64)          36928     \n",
      "_________________________________________________________________\n",
      "max_pooling2d_2 (MaxPooling2 (None, 4, 4, 64)          0         \n",
      "_________________________________________________________________\n",
      "flatten_1 (Flatten)          (None, 1024)              0         \n",
      "_________________________________________________________________\n",
      "dense_1 (Dense)              (None, 64)                65600     \n",
      "_________________________________________________________________\n",
      "dense_2 (Dense)              (None, 10)                650       \n",
      "=================================================================\n",
      "Total params: 126,122\n",
      "Trainable params: 126,122\n",
      "Non-trainable params: 0\n",
      "_________________________________________________________________\n",
      "None\n"
     ]
    }
   ],
   "source": [
    "def getModel():\n",
    "    model = Sequential()\n",
    "\n",
    "    model.add(Conv2D(filters = 32, kernel_size = (3, 3), activation='relu',\n",
    "                 input_shape = (28, 28, 1)))\n",
    "    model.add(Conv2D(filters = 32, kernel_size = (2, 2), activation='relu'))\n",
    "    model.add(MaxPool2D(strides=(2,2)))\n",
    "    \n",
    "    model.add(Conv2D(filters = 64, kernel_size = (3, 3), activation='relu'))\n",
    "    model.add(Conv2D(filters = 64, kernel_size = (3, 3), activation='relu'))\n",
    "    model.add(MaxPool2D(strides=(2,2)))\n",
    "    \n",
    "    model.add(Flatten())\n",
    "    \n",
    "    model.add(Dense(64, activation='relu'))\n",
    "    model.add(Dense(10, activation='softmax'))\n",
    "\n",
    "    model.compile(loss='categorical_crossentropy', optimizer = Adam(lr=1e-3), metrics=[\"accuracy\"])\n",
    "    \n",
    "    \n",
    "    return model\n",
    "print(getModel().summary())"
   ]
  },
  {
   "cell_type": "markdown",
   "metadata": {},
   "source": [
    "Let's define an image data generator for augmenting our data set with various transforms"
   ]
  },
  {
   "cell_type": "code",
   "execution_count": 3,
   "metadata": {},
   "outputs": [],
   "source": [
    "gen = ImageDataGenerator(\n",
    "        rotation_range=20,\n",
    "        width_shift_range=0.1,\n",
    "        height_shift_range=0.1,\n",
    "        shear_range=0.5,\n",
    "        zoom_range=(0.9, 1.1),\n",
    "        horizontal_flip=False,\n",
    "        vertical_flip=False,\n",
    "        fill_mode='constant',\n",
    "        cval=0\n",
    ")"
   ]
  },
  {
   "cell_type": "code",
   "execution_count": 9,
   "metadata": {},
   "outputs": [],
   "source": [
    "(x_train, y_train), (x_test, y_test) = fashion_mnist.load_data()\n",
    "\n",
    "x_train_image_aug = x_train[1:100]\n",
    "y_train_image_aug = y_train[1:100]\n",
    "x_test_image_aug = x_test[1:100]\n",
    "y_test_image_aug = y_test[1:100]\n",
    "x_train_orig = x_train[1:1000]\n",
    "y_train_orig = y_train[1:1000]\n",
    "x_test_orig = x_test[1:1000]\n",
    "y_test_orig = y_test[1:1000]\n",
    "\n",
    "\n",
    "test_data_img_aug = np.asarray(x_test_image_aug / 255.0 , dtype=float)\n",
    "train_data_img_aug = np.asarray(x_train_image_aug / 255.0 , dtype=float)\n",
    "test_labels_img_aug = np.asarray(y_test_image_aug , dtype=np.int32)\n",
    "train_labels_img_aug = np.asarray(y_train_image_aug , dtype=np.int32)\n",
    "\n",
    "test_data_orig = np.asarray(x_test_orig / 255.0 , dtype=float)\n",
    "train_data_orig = np.asarray(x_train_orig / 255.0 , dtype=float)\n",
    "test_labels_orig = np.asarray(y_test_orig , dtype=np.int32)\n",
    "train_labels_orig = np.asarray(y_train_orig , dtype=np.int32)"
   ]
  },
  {
   "cell_type": "markdown",
   "metadata": {},
   "source": [
    "Let's train our model using our image augmentation set up"
   ]
  },
  {
   "cell_type": "code",
   "execution_count": 40,
   "metadata": {},
   "outputs": [
    {
     "name": "stdout",
     "output_type": "stream",
     "text": [
      "Epoch 1/30\n",
      "100/100 [==============================] - 5s 49ms/step - loss: 1.5732 - acc: 0.4290 - val_loss: 1.6024 - val_acc: 0.5152\n",
      "Epoch 2/30\n",
      "100/100 [==============================] - 2s 25ms/step - loss: 0.7595 - acc: 0.7060 - val_loss: 1.8263 - val_acc: 0.5960\n",
      "Epoch 3/30\n",
      "100/100 [==============================] - 3s 25ms/step - loss: 0.6156 - acc: 0.7632 - val_loss: 2.3624 - val_acc: 0.5960\n",
      "Epoch 4/30\n",
      "100/100 [==============================] - 2s 24ms/step - loss: 0.5855 - acc: 0.7654 - val_loss: 2.1115 - val_acc: 0.5859\n",
      "Epoch 5/30\n",
      "100/100 [==============================] - 3s 26ms/step - loss: 0.5804 - acc: 0.7822 - val_loss: 2.2742 - val_acc: 0.5960\n",
      "Epoch 6/30\n",
      "100/100 [==============================] - 2s 24ms/step - loss: 0.4454 - acc: 0.8036 - val_loss: 1.9665 - val_acc: 0.5859\n",
      "Epoch 7/30\n",
      "100/100 [==============================] - 3s 25ms/step - loss: 0.4184 - acc: 0.8361 - val_loss: 2.0949 - val_acc: 0.6263\n",
      "Epoch 8/30\n",
      "100/100 [==============================] - 2s 24ms/step - loss: 0.3990 - acc: 0.8341 - val_loss: 2.6752 - val_acc: 0.6162\n",
      "Epoch 9/30\n",
      "100/100 [==============================] - ETA: 0s - loss: 0.4051 - acc: 0.8442- ETA: 0s - loss: 0.3884 - acc: 0 - 3s 25ms/step - loss: 0.4077 - acc: 0.8426 - val_loss: 2.6456 - val_acc: 0.6061\n",
      "Epoch 10/30\n",
      "100/100 [==============================] - 3s 25ms/step - loss: 0.3573 - acc: 0.8684 - val_loss: 2.4635 - val_acc: 0.6465\n",
      "Epoch 11/30\n",
      "100/100 [==============================] - 3s 25ms/step - loss: 0.2919 - acc: 0.8910 - val_loss: 2.8660 - val_acc: 0.6061\n",
      "Epoch 12/30\n",
      "100/100 [==============================] - 2s 25ms/step - loss: 0.2446 - acc: 0.9050 - val_loss: 2.3853 - val_acc: 0.6566\n",
      "Epoch 13/30\n",
      "100/100 [==============================] - 3s 25ms/step - loss: 0.2633 - acc: 0.8906 - val_loss: 3.2592 - val_acc: 0.5455\n",
      "Epoch 14/30\n",
      "100/100 [==============================] - 3s 26ms/step - loss: 0.2570 - acc: 0.8957 - val_loss: 2.9733 - val_acc: 0.6162\n",
      "Epoch 15/30\n",
      "100/100 [==============================] - 3s 28ms/step - loss: 0.2512 - acc: 0.9039 - val_loss: 2.8506 - val_acc: 0.6263\n",
      "Epoch 16/30\n",
      "100/100 [==============================] - 3s 29ms/step - loss: 0.2052 - acc: 0.9167 - val_loss: 2.9123 - val_acc: 0.6061\n",
      "Epoch 17/30\n",
      "100/100 [==============================] - 3s 29ms/step - loss: 0.2164 - acc: 0.9106 - val_loss: 2.9549 - val_acc: 0.5859\n",
      "Epoch 18/30\n",
      "100/100 [==============================] - 3s 28ms/step - loss: 0.1766 - acc: 0.9362 - val_loss: 2.7016 - val_acc: 0.6465\n",
      "Epoch 19/30\n",
      "100/100 [==============================] - 3s 26ms/step - loss: 0.1949 - acc: 0.9307 - val_loss: 2.6344 - val_acc: 0.6162\n",
      "Epoch 20/30\n",
      "100/100 [==============================] - 2s 25ms/step - loss: 0.1539 - acc: 0.9439 - val_loss: 2.6345 - val_acc: 0.6566\n",
      "Epoch 21/30\n",
      "100/100 [==============================] - 3s 25ms/step - loss: 0.1545 - acc: 0.9407 - val_loss: 2.8394 - val_acc: 0.6263\n",
      "Epoch 22/30\n",
      "100/100 [==============================] - 2s 25ms/step - loss: 0.1095 - acc: 0.9658 - val_loss: 3.0634 - val_acc: 0.6566\n",
      "Epoch 23/30\n",
      "100/100 [==============================] - 3s 26ms/step - loss: 0.1389 - acc: 0.9550 - val_loss: 3.3560 - val_acc: 0.6667\n",
      "Epoch 24/30\n",
      "100/100 [==============================] - 3s 27ms/step - loss: 0.1143 - acc: 0.9603 - val_loss: 3.2924 - val_acc: 0.6263\n",
      "Epoch 25/30\n",
      "100/100 [==============================] - 3s 29ms/step - loss: 0.0929 - acc: 0.9698 - val_loss: 2.9606 - val_acc: 0.6768\n",
      "Epoch 26/30\n",
      "100/100 [==============================] - 3s 31ms/step - loss: 0.1217 - acc: 0.9527 - val_loss: 2.7298 - val_acc: 0.6465\n",
      "Epoch 27/30\n",
      "100/100 [==============================] - 3s 27ms/step - loss: 0.1035 - acc: 0.9656 - val_loss: 3.0164 - val_acc: 0.6263\n",
      "Epoch 28/30\n",
      "100/100 [==============================] - 3s 25ms/step - loss: 0.0927 - acc: 0.9631 - val_loss: 3.1776 - val_acc: 0.6263\n",
      "Epoch 29/30\n",
      "100/100 [==============================] - 2s 24ms/step - loss: 0.0787 - acc: 0.9787 - val_loss: 3.1800 - val_acc: 0.6465\n",
      "Epoch 30/30\n",
      "100/100 [==============================] - 3s 25ms/step - loss: 0.1143 - acc: 0.9626 - val_loss: 2.7538 - val_acc: 0.6667\n"
     ]
    }
   ],
   "source": [
    "y_train_labels_img_aug = to_categorical(train_labels_img_aug)\n",
    "y_test_labels_img_aug = to_categorical(test_labels_img_aug)\n",
    "x_train_data_img_aug = train_data_img_aug.reshape(-1, 28, 28, 1)\n",
    "x_test_data_img_aug = test_data_img_aug.reshape(-1, 28, 28, 1)\n",
    "\n",
    "train_gen = gen.flow(x_train_data_img_aug, \n",
    "                        y_train_labels_img_aug, \n",
    "                        batch_size=10,\n",
    "                        seed=42)\n",
    "\n",
    "model = getModel()\n",
    "\n",
    "history = model.fit_generator(\n",
    "            train_gen,\n",
    "            steps_per_epoch=100,\n",
    "            epochs=30,\n",
    "            verbose=1,\n",
    "            validation_data=(x_test_data_img_aug, y_test_labels_img_aug),\n",
    "            shuffle=True\n",
    ")"
   ]
  },
  {
   "cell_type": "markdown",
   "metadata": {},
   "source": [
    "Let's now train the model without image augmentation"
   ]
  },
  {
   "cell_type": "code",
   "execution_count": 41,
   "metadata": {},
   "outputs": [
    {
     "name": "stdout",
     "output_type": "stream",
     "text": [
      "Train on 999 samples, validate on 999 samples\n",
      "Epoch 1/30\n",
      "999/999 [==============================] - 2s 2ms/step - loss: 1.1046 - acc: 0.7497 - val_loss: 0.8231 - val_acc: 0.7377\n",
      "Epoch 2/30\n",
      "999/999 [==============================] - 2s 2ms/step - loss: 0.5723 - acc: 0.8058 - val_loss: 0.7277 - val_acc: 0.7487\n",
      "Epoch 3/30\n",
      "999/999 [==============================] - 2s 2ms/step - loss: 0.4747 - acc: 0.8328 - val_loss: 0.6859 - val_acc: 0.7568\n",
      "Epoch 4/30\n",
      "999/999 [==============================] - 2s 2ms/step - loss: 0.3804 - acc: 0.8739 - val_loss: 0.6740 - val_acc: 0.7728\n",
      "Epoch 5/30\n",
      "999/999 [==============================] - 2s 2ms/step - loss: 0.3518 - acc: 0.8749 - val_loss: 0.6810 - val_acc: 0.7758\n",
      "Epoch 6/30\n",
      "999/999 [==============================] - 2s 2ms/step - loss: 0.2946 - acc: 0.8959 - val_loss: 0.6722 - val_acc: 0.7748\n",
      "Epoch 7/30\n",
      "999/999 [==============================] - 2s 2ms/step - loss: 0.2607 - acc: 0.9139 - val_loss: 0.6735 - val_acc: 0.7828\n",
      "Epoch 8/30\n",
      "999/999 [==============================] - 2s 2ms/step - loss: 0.2211 - acc: 0.9269 - val_loss: 0.7551 - val_acc: 0.7758\n",
      "Epoch 9/30\n",
      "999/999 [==============================] - 2s 2ms/step - loss: 0.1945 - acc: 0.9379 - val_loss: 0.7309 - val_acc: 0.7918\n",
      "Epoch 10/30\n",
      "999/999 [==============================] - 2s 2ms/step - loss: 0.1689 - acc: 0.9469 - val_loss: 0.7501 - val_acc: 0.7808\n",
      "Epoch 11/30\n",
      "999/999 [==============================] - 2s 2ms/step - loss: 0.1671 - acc: 0.9399 - val_loss: 0.7907 - val_acc: 0.7918\n",
      "Epoch 12/30\n",
      "999/999 [==============================] - 2s 2ms/step - loss: 0.1411 - acc: 0.9469 - val_loss: 0.7754 - val_acc: 0.8018\n",
      "Epoch 13/30\n",
      "999/999 [==============================] - 2s 2ms/step - loss: 0.1091 - acc: 0.9660 - val_loss: 0.7918 - val_acc: 0.7928\n",
      "Epoch 14/30\n",
      "999/999 [==============================] - 2s 2ms/step - loss: 0.0867 - acc: 0.9710 - val_loss: 0.8598 - val_acc: 0.7878\n",
      "Epoch 15/30\n",
      "999/999 [==============================] - 2s 2ms/step - loss: 0.0962 - acc: 0.9660 - val_loss: 0.8655 - val_acc: 0.7938\n",
      "Epoch 16/30\n",
      "999/999 [==============================] - 2s 2ms/step - loss: 0.0677 - acc: 0.9810 - val_loss: 0.9380 - val_acc: 0.7928\n",
      "Epoch 17/30\n",
      "999/999 [==============================] - 2s 2ms/step - loss: 0.0523 - acc: 0.9820 - val_loss: 0.9449 - val_acc: 0.7948\n",
      "Epoch 18/30\n",
      "999/999 [==============================] - 2s 2ms/step - loss: 0.0398 - acc: 0.9890 - val_loss: 0.9843 - val_acc: 0.7938\n",
      "Epoch 19/30\n",
      "999/999 [==============================] - 2s 2ms/step - loss: 0.0540 - acc: 0.9820 - val_loss: 1.0956 - val_acc: 0.7878\n",
      "Epoch 20/30\n",
      "999/999 [==============================] - 2s 2ms/step - loss: 0.0388 - acc: 0.9890 - val_loss: 1.0714 - val_acc: 0.7908\n",
      "Epoch 21/30\n",
      "999/999 [==============================] - 2s 2ms/step - loss: 0.0374 - acc: 0.9890 - val_loss: 1.1086 - val_acc: 0.7928\n",
      "Epoch 22/30\n",
      "999/999 [==============================] - 2s 2ms/step - loss: 0.0224 - acc: 0.9950 - val_loss: 1.0900 - val_acc: 0.7958\n",
      "Epoch 23/30\n",
      "999/999 [==============================] - 2s 2ms/step - loss: 0.0230 - acc: 0.9960 - val_loss: 1.1444 - val_acc: 0.7858\n",
      "Epoch 24/30\n",
      "999/999 [==============================] - 2s 2ms/step - loss: 0.0249 - acc: 0.9910 - val_loss: 1.1299 - val_acc: 0.7928\n",
      "Epoch 25/30\n",
      "999/999 [==============================] - 2s 2ms/step - loss: 0.0218 - acc: 0.9960 - val_loss: 1.1452 - val_acc: 0.8018\n",
      "Epoch 26/30\n",
      "999/999 [==============================] - 2s 2ms/step - loss: 0.0109 - acc: 1.0000 - val_loss: 1.1774 - val_acc: 0.8008\n",
      "Epoch 27/30\n",
      "999/999 [==============================] - 2s 2ms/step - loss: 0.0074 - acc: 1.0000 - val_loss: 1.1805 - val_acc: 0.8038\n",
      "Epoch 28/30\n",
      "999/999 [==============================] - 2s 2ms/step - loss: 0.0053 - acc: 1.0000 - val_loss: 1.2096 - val_acc: 0.8008\n",
      "Epoch 29/30\n",
      "999/999 [==============================] - 2s 2ms/step - loss: 0.0060 - acc: 0.9990 - val_loss: 1.2553 - val_acc: 0.7948\n",
      "Epoch 30/30\n",
      "999/999 [==============================] - 2s 2ms/step - loss: 0.0045 - acc: 1.0000 - val_loss: 1.2457 - val_acc: 0.8018\n"
     ]
    }
   ],
   "source": [
    "y_train_labels_orig = to_categorical(train_labels_orig)\n",
    "y_test_labels_orig = to_categorical(test_labels_orig)\n",
    "x_train_data_orig = train_data_orig.reshape(-1, 28, 28, 1)\n",
    "x_test_data_orig = test_data_orig.reshape(-1, 28, 28, 1)\n",
    "\n",
    "training_history = model.fit(x_train_data_orig,\n",
    "                     y_train_labels_orig,\n",
    "                     epochs=30,\n",
    "                     verbose=1,\n",
    "                     batch_size=32,\n",
    "                     validation_data=(x_test_data_orig, y_test_labels_orig),\n",
    "                     shuffle=True\n",
    "                )"
   ]
  },
  {
   "cell_type": "markdown",
   "metadata": {},
   "source": [
    "Let's now see how they compare"
   ]
  },
  {
   "cell_type": "code",
   "execution_count": 45,
   "metadata": {},
   "outputs": [
    {
     "data": {
      "text/plain": [
       "(0.0, 1.09)"
      ]
     },
     "execution_count": 45,
     "metadata": {},
     "output_type": "execute_result"
    },
    {
     "data": {
      "image/png": "[encoded data removed]",
      "text/plain": [
       "<Figure size 1440x648 with 1 Axes>"
      ]
     },
     "metadata": {
      "needs_background": "light"
     },
     "output_type": "display_data"
    }
   ],
   "source": [
    "%matplotlib inline\n",
    "\n",
    "import matplotlib.pyplot as plt\n",
    "\n",
    "figure = plt.figure(figsize=(20,9))\n",
    " \n",
    "subplot = figure.add_subplot(1, 2, 1)\n",
    "\n",
    "plt.plot(training_history.history['acc'], color='#aaaa30', label='Image augmentation')\n",
    "\n",
    "plt.plot(history.history['acc'], color='#ff3d00', label='Image augmentation')\n",
    "plt.ylim(0.0,1.09)"
   ]
  },
  {
   "cell_type": "code",
   "execution_count": null,
   "metadata": {},
   "outputs": [],
   "source": []
  }
 ],
 "metadata": {
  "kernelspec": {
   "display_name": "Python 3",
   "language": "python",
   "name": "python3"
  },
  "language_info": {
   "codemirror_mode": {
    "name": "ipython",
    "version": 3
   },
   "file_extension": ".py",
   "mimetype": "text/x-python",
   "name": "python",
   "nbconvert_exporter": "python",
   "pygments_lexer": "ipython3",
   "version": "3.7.4"
  }
 },
 "nbformat": 4,
 "nbformat_minor": 2
}
