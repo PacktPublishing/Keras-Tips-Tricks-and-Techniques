{
 "cells": [
  {
   "cell_type": "markdown",
   "metadata": {},
   "source": [
    "# Image classification\n",
    "Simple image classifier over fashion items using the fashion mnist dataset"
   ]
  },
  {
   "cell_type": "code",
   "execution_count": 1,
   "metadata": {},
   "outputs": [
    {
     "name": "stderr",
     "output_type": "stream",
     "text": [
      "Using TensorFlow backend.\n"
     ]
    }
   ],
   "source": [
    "import keras"
   ]
  },
  {
   "cell_type": "markdown",
   "metadata": {},
   "source": [
    "Here we import the right keras packages. This includes Conv2D which is keras' convolutional neural network layer"
   ]
  },
  {
   "cell_type": "code",
   "execution_count": 2,
   "metadata": {},
   "outputs": [],
   "source": [
    "from keras.models import Sequential\n",
    "from keras.layers import Dense, Dropout, Flatten, Conv2D, MaxPool2D, BatchNormalization\n",
    "from keras.optimizers import Adam\n",
    "from keras.preprocessing.image import ImageDataGenerator\n",
    "from keras.callbacks import LearningRateScheduler\n",
    "\n",
    "from keras.datasets import fashion_mnist\n",
    "import numpy as np\n",
    "from keras.utils.np_utils import to_categorical # convert to one-hot-encoding\n"
   ]
  },
  {
   "cell_type": "markdown",
   "metadata": {},
   "source": [
    "Loading the Fashion MNIST data set. This data set contains the follow categories of fashion items - each training and test example is assigned to one of the following labels:\n",
    "\n",
    "| Label | Description |\n",
    "| --- | --- |\n",
    "| 0 | T-shirt/top |\n",
    "| 1 | Trouser |\n",
    "| 2 | Pullover |\n",
    "| 3 | Dress |\n",
    "| 4 | Coat |\n",
    "| 5 | Sandal |\n",
    "| 6 | Shirt |\n",
    "| 7 | Sneaker |\n",
    "| 8 | Bag |\n",
    "| 9 | Ankle boot |"
   ]
  },
  {
   "cell_type": "code",
   "execution_count": 3,
   "metadata": {},
   "outputs": [],
   "source": [
    "(x_train, y_train), (x_test, y_test) = fashion_mnist.load_data()"
   ]
  },
  {
   "cell_type": "code",
   "execution_count": 4,
   "metadata": {},
   "outputs": [
    {
     "data": {
      "text/plain": [
       "array([0, 1, 2, 3, 4, 5, 6, 7, 8, 9], dtype=uint8)"
      ]
     },
     "execution_count": 4,
     "metadata": {},
     "output_type": "execute_result"
    }
   ],
   "source": [
    "np.unique(y_train)"
   ]
  },
  {
   "cell_type": "code",
   "execution_count": 5,
   "metadata": {},
   "outputs": [
    {
     "name": "stdout",
     "output_type": "stream",
     "text": [
      "(60000, 28, 28)\n",
      "(60000,)\n",
      "(10000, 28, 28)\n",
      "(10000,)\n"
     ]
    }
   ],
   "source": [
    "# 60000 training images with 28x28 pixels\n",
    "print(np.shape(x_train))\n",
    "# 60000 labels\n",
    "print(np.shape(y_train))\n",
    "\n",
    "# 10000 test images with 28x28 pixels\n",
    "print(np.shape(x_test))\n",
    "# 10000 labels\n",
    "print(np.shape(y_test))"
   ]
  },
  {
   "cell_type": "markdown",
   "metadata": {},
   "source": [
    "The images consist of grayscale values between 0.0 and 255.0. Here, we normalize them by dividing the whole data arrays by 255.0. Doing this aligns them in the range 0-1. This is done to reduce errors with too large ranges for our gradient function in our neural network."
   ]
  },
  {
   "cell_type": "code",
   "execution_count": 6,
   "metadata": {},
   "outputs": [],
   "source": [
    "test_data = np.asarray(x_test / 255.0 , dtype=float)\n",
    "train_data = np.asarray(x_train / 255.0 , dtype=float)\n",
    "test_labels= np.asarray(y_test , dtype=np.int32)\n",
    "train_labels = np.asarray(y_train , dtype=np.int32)"
   ]
  },
  {
   "cell_type": "markdown",
   "metadata": {},
   "source": [
    "We can use matplotlib to view the images within the notebook. Here we define a simple function for use later to draw out images using matplotlib"
   ]
  },
  {
   "cell_type": "code",
   "execution_count": 14,
   "metadata": {},
   "outputs": [],
   "source": [
    "%matplotlib inline\n",
    "\n",
    "import matplotlib.pyplot as plt\n",
    "\n",
    "def plot_images(imgs, rows=1, figsize=(20,8), fontsize=14):\n",
    "    figure = plt.figure(figsize=figsize)\n",
    "    cols = max(1,len(imgs) // rows-1)\n",
    "    for i in range(len(imgs)):\n",
    "        subplot = figure.add_subplot(rows, cols+1, i+1)\n",
    "        plt.tick_params(\n",
    "            axis='both',\n",
    "            which='both',\n",
    "            bottom=False,\n",
    "            top=False,\n",
    "            left=False,\n",
    "            right=False,\n",
    "            labelbottom=False,\n",
    "            labelleft=False)\n",
    "        plt.imshow(imgs[i][:,:], cmap='Greys')\n",
    "        \n",
    "    plt.show()"
   ]
  },
  {
   "cell_type": "code",
   "execution_count": 15,
   "metadata": {},
   "outputs": [
    {
     "data": {
      "image/png": "[encoded data removed]",
      "text/plain": [
       "<Figure size 1440x576 with 10 Axes>"
      ]
     },
     "metadata": {},
     "output_type": "display_data"
    }
   ],
   "source": [
    "plot_images(x_train[0:10])"
   ]
  },
  {
   "cell_type": "markdown",
   "metadata": {},
   "source": [
    "Let's define a function that builds the Keras model architecture for a convolutional network"
   ]
  },
  {
   "cell_type": "code",
   "execution_count": 16,
   "metadata": {},
   "outputs": [],
   "source": [
    "def build_model():\n",
    "    model = Sequential()\n",
    "\n",
    "    model.add(Conv2D(filters=32, kernel_size=(3, 3), activation='relu', input_shape = (28, 28, 1)))\n",
    "    model.add(MaxPool2D(strides=(2,2)))\n",
    "    model.add(Flatten())\n",
    "    model.add(Dense(64, activation='relu'))\n",
    "    model.add(Dense(10, activation='softmax'))\n",
    "\n",
    "    model.compile(loss='categorical_crossentropy', optimizer = Adam(lr=1e-3), metrics=[\"accuracy\"])\n",
    "    \n",
    "    return model"
   ]
  },
  {
   "cell_type": "code",
   "execution_count": 17,
   "metadata": {},
   "outputs": [
    {
     "name": "stdout",
     "output_type": "stream",
     "text": [
      "(60000, 28, 28, 1)\n",
      "(60000, 10)\n",
      "(10000, 28, 28, 1)\n",
      "(10000, 10)\n"
     ]
    }
   ],
   "source": [
    "x_train_data = train_data.reshape(-1, 28, 28, 1)\n",
    "y_train_data = to_categorical(train_labels)\n",
    "\n",
    "print(np.shape(x_train_data))\n",
    "print(np.shape(y_train_data))\n",
    "\n",
    "x_test_data = test_data.reshape(-1, 28, 28, 1)\n",
    "y_test_data = to_categorical(test_labels)\n",
    "print(np.shape(x_test_data))\n",
    "print(np.shape(y_test_data))"
   ]
  },
  {
   "cell_type": "code",
   "execution_count": 18,
   "metadata": {},
   "outputs": [
    {
     "name": "stdout",
     "output_type": "stream",
     "text": [
      "WARNING:tensorflow:From C:\\Users\\jdeha\\Anaconda3\\lib\\site-packages\\tensorflow\\python\\framework\\op_def_library.py:263: colocate_with (from tensorflow.python.framework.ops) is deprecated and will be removed in a future version.\n",
      "Instructions for updating:\n",
      "Colocations handled automatically by placer.\n",
      "WARNING:tensorflow:From C:\\Users\\jdeha\\Anaconda3\\lib\\site-packages\\tensorflow\\python\\ops\\math_ops.py:3066: to_int32 (from tensorflow.python.ops.math_ops) is deprecated and will be removed in a future version.\n",
      "Instructions for updating:\n",
      "Use tf.cast instead.\n",
      "Train on 60000 samples, validate on 10000 samples\n",
      "Epoch 1/10\n",
      "60000/60000 [==============================] - 24s 402us/step - loss: 0.4054 - acc: 0.8572 - val_loss: 0.3368 - val_acc: 0.8768\n",
      "Epoch 2/10\n",
      "60000/60000 [==============================] - 26s 430us/step - loss: 0.2747 - acc: 0.9020 - val_loss: 0.3025 - val_acc: 0.8872\n",
      "Epoch 3/10\n",
      "60000/60000 [==============================] - 25s 423us/step - loss: 0.2307 - acc: 0.9153 - val_loss: 0.2636 - val_acc: 0.9058\n",
      "Epoch 4/10\n",
      "60000/60000 [==============================] - 25s 412us/step - loss: 0.2015 - acc: 0.9257 - val_loss: 0.2600 - val_acc: 0.9083\n",
      "Epoch 5/10\n",
      "60000/60000 [==============================] - 26s 429us/step - loss: 0.1764 - acc: 0.9352 - val_loss: 0.2489 - val_acc: 0.9124\n",
      "Epoch 6/10\n",
      "60000/60000 [==============================] - 24s 400us/step - loss: 0.1573 - acc: 0.9415 - val_loss: 0.2638 - val_acc: 0.9077\n",
      "Epoch 7/10\n",
      "60000/60000 [==============================] - 24s 406us/step - loss: 0.1368 - acc: 0.9501 - val_loss: 0.2684 - val_acc: 0.9120 0.1364\n",
      "Epoch 8/10\n",
      "60000/60000 [==============================] - 23s 385us/step - loss: 0.1217 - acc: 0.9556 - val_loss: 0.2700 - val_acc: 0.9150\n",
      "Epoch 9/10\n",
      "60000/60000 [==============================] - 24s 405us/step - loss: 0.1090 - acc: 0.9607 - val_loss: 0.2736 - val_acc: 0.9142\n",
      "Epoch 10/10\n",
      "60000/60000 [==============================] - 26s 431us/step - loss: 0.0962 - acc: 0.9646 - val_loss: 0.2883 - val_acc: 0.9130\n"
     ]
    }
   ],
   "source": [
    "model = build_model()\n",
    "\n",
    "training_history = model.fit(x_train_data,\n",
    "                     y_train_data,\n",
    "                     epochs=10,\n",
    "                     verbose=1,\n",
    "                     batch_size=32,\n",
    "                     validation_data=(x_test_data, y_test_data)\n",
    "                )"
   ]
  },
  {
   "cell_type": "code",
   "execution_count": 19,
   "metadata": {},
   "outputs": [
    {
     "data": {
      "text/plain": [
       "{'val_loss': [0.33681597347259523,\n",
       "  0.30247321590185167,\n",
       "  0.26362250053882597,\n",
       "  0.2600263224720955,\n",
       "  0.24890633507966994,\n",
       "  0.26377828946113585,\n",
       "  0.26836037242114547,\n",
       "  0.27002424339056014,\n",
       "  0.27355366789102553,\n",
       "  0.2883227875232697],\n",
       " 'val_acc': [0.8768,\n",
       "  0.8872,\n",
       "  0.9058,\n",
       "  0.9083,\n",
       "  0.9124,\n",
       "  0.9077,\n",
       "  0.912,\n",
       "  0.915,\n",
       "  0.9142,\n",
       "  0.913],\n",
       " 'loss': [0.4054421124438445,\n",
       "  0.2747300923079252,\n",
       "  0.23072507253438235,\n",
       "  0.2014865179648002,\n",
       "  0.17638153814077379,\n",
       "  0.15727388691256444,\n",
       "  0.13678180876150728,\n",
       "  0.1217364121456941,\n",
       "  0.10904231215299418,\n",
       "  0.09622375573373089],\n",
       " 'acc': [0.85715,\n",
       "  0.90205,\n",
       "  0.9153333333333333,\n",
       "  0.9257333333333333,\n",
       "  0.93515,\n",
       "  0.9415166666666667,\n",
       "  0.9500833333333333,\n",
       "  0.9556166666666667,\n",
       "  0.96075,\n",
       "  0.96465]}"
      ]
     },
     "execution_count": 19,
     "metadata": {},
     "output_type": "execute_result"
    }
   ],
   "source": [
    "training_history.history"
   ]
  },
  {
   "cell_type": "markdown",
   "metadata": {},
   "source": [
    "Let's plot the training metrics"
   ]
  },
  {
   "cell_type": "code",
   "execution_count": 20,
   "metadata": {},
   "outputs": [
    {
     "data": {
      "image/png": "[encoded data removed]",
      "text/plain": [
       "<Figure size 432x288 with 1 Axes>"
      ]
     },
     "metadata": {
      "needs_background": "light"
     },
     "output_type": "display_data"
    }
   ],
   "source": [
    "epoch_count = range(1, len(training_history.history['val_acc']) + 1)\n",
    "plt.plot(epoch_count, training_history.history['acc'], 'r--')\n",
    "plt.plot(epoch_count, training_history.history['val_acc'], 'b-')\n",
    "plt.legend(['Training Accuracy', 'Test Accuracy'])\n",
    "plt.xlabel('Epoch')\n",
    "plt.ylabel('Accuracy')\n",
    "plt.show();"
   ]
  },
  {
   "cell_type": "code",
   "execution_count": 21,
   "metadata": {},
   "outputs": [
    {
     "data": {
      "image/png": "[encoded data removed]",
      "text/plain": [
       "<Figure size 432x288 with 1 Axes>"
      ]
     },
     "metadata": {
      "needs_background": "light"
     },
     "output_type": "display_data"
    }
   ],
   "source": [
    "epoch_count = range(1, len(training_history.history['val_loss']) + 1)\n",
    "plt.plot(epoch_count, training_history.history['loss'], 'r--')\n",
    "plt.plot(epoch_count, training_history.history['val_loss'], 'b-')\n",
    "plt.legend(['Training Loss', 'Test Loss'])\n",
    "plt.xlabel('Epoch')\n",
    "plt.ylabel('Loss')\n",
    "plt.show();"
   ]
  },
  {
   "cell_type": "markdown",
   "metadata": {},
   "source": [
    "### Trying it out\n",
    "Let's test our trained model and demonstrate how it can be used to classify an image"
   ]
  },
  {
   "cell_type": "code",
   "execution_count": 22,
   "metadata": {},
   "outputs": [
    {
     "data": {
      "image/png": "[encoded data removed]",
      "text/plain": [
       "<Figure size 1440x576 with 1 Axes>"
      ]
     },
     "metadata": {},
     "output_type": "display_data"
    }
   ],
   "source": [
    "plot_images([x_test[8]])"
   ]
  },
  {
   "cell_type": "code",
   "execution_count": 23,
   "metadata": {},
   "outputs": [
    {
     "data": {
      "text/plain": [
       "'Sandal'"
      ]
     },
     "execution_count": 23,
     "metadata": {},
     "output_type": "execute_result"
    }
   ],
   "source": [
    "labels=['T-shirt', 'Trouser', 'Pullover', 'Dress', 'Coat', 'Sandal', 'Shirt', 'Sneaker', 'Bag', 'Ankle Boot']\n",
    "pred = model.predict(np.expand_dims(x_test_data[8], axis=0))\n",
    "labels[np.argmax(pred)]"
   ]
  },
  {
   "cell_type": "code",
   "execution_count": null,
   "metadata": {},
   "outputs": [],
   "source": []
  }
 ],
 "metadata": {
  "kernelspec": {
   "display_name": "Python 3",
   "language": "python",
   "name": "python3"
  },
  "language_info": {
   "codemirror_mode": {
    "name": "ipython",
    "version": 3
   },
   "file_extension": ".py",
   "mimetype": "text/x-python",
   "name": "python",
   "nbconvert_exporter": "python",
   "pygments_lexer": "ipython3",
   "version": "3.7.4"
  }
 },
 "nbformat": 4,
 "nbformat_minor": 2
}
