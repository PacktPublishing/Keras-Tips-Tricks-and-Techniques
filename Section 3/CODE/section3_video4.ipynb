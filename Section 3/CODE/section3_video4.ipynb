{
 "cells": [
  {
   "cell_type": "markdown",
   "metadata": {},
   "source": [
    "# Multiple Inputs and Outputs\n",
    "In order to explore multiple inputs and outputs in the Keras Functional API let's try to predict how many retweets and likes a news headline will receive on Twitter. \n",
    "\n",
    "The main input to the model will be the headline itself, as a sequence of words. Our model will also have an additional input, receiving data such as the time of day when the headline was posted, etc."
   ]
  },
  {
   "cell_type": "code",
   "execution_count": 1,
   "metadata": {},
   "outputs": [
    {
     "name": "stderr",
     "output_type": "stream",
     "text": [
      "Using TensorFlow backend.\n",
      "WARNING: Logging before flag parsing goes to stderr.\n",
      "W1110 19:00:25.727532   860 deprecation_wrapper.py:119] From C:\\Users\\jdeha\\Anaconda3\\envs\\keras\\lib\\site-packages\\keras\\backend\\tensorflow_backend.py:517: The name tf.placeholder is deprecated. Please use tf.compat.v1.placeholder instead.\n",
      "\n",
      "W1110 19:00:25.741447   860 deprecation_wrapper.py:119] From C:\\Users\\jdeha\\Anaconda3\\envs\\keras\\lib\\site-packages\\keras\\backend\\tensorflow_backend.py:74: The name tf.get_default_graph is deprecated. Please use tf.compat.v1.get_default_graph instead.\n",
      "\n",
      "W1110 19:00:25.742774   860 deprecation_wrapper.py:119] From C:\\Users\\jdeha\\Anaconda3\\envs\\keras\\lib\\site-packages\\keras\\backend\\tensorflow_backend.py:4138: The name tf.random_uniform is deprecated. Please use tf.random.uniform instead.\n",
      "\n"
     ]
    }
   ],
   "source": [
    "import keras\n",
    "from keras.layers import Input, Embedding, LSTM, Dense\n",
    "from keras.models import Model\n",
    "import numpy as np\n",
    "\n",
    "np.random.seed(23)\n",
    "\n",
    "# Note that we can name any layer by passing it a \"name\" argument.\n",
    "main_input = Input(shape=(100,), dtype='int32', name='main_input')\n",
    "\n",
    "# This embedding layer will encode the input sequence into a sequence of dense 512-dimensional vectors.\n",
    "x = Embedding(output_dim=512, input_dim=10000, input_length=100)(main_input)\n",
    "\n",
    "lstm_out = LSTM(32)(x)"
   ]
  },
  {
   "cell_type": "code",
   "execution_count": 2,
   "metadata": {},
   "outputs": [],
   "source": [
    "#Let's define the additional inputs and outputs\n",
    "addtl_output = Dense(1, activation='sigmoid', name='addtl_output')(lstm_out)\n",
    "addtl_input = Input(shape=(5,), name='addtl_input')\n",
    "x = keras.layers.concatenate([lstm_out, addtl_input])\n",
    "\n",
    "# Let's add a couple of layers\n",
    "x = Dense(64, activation='relu')(x)\n",
    "x = Dense(64, activation='relu')(x)\n",
    "\n",
    "# And finally we add the main logistic regression layer\n",
    "main_output = Dense(1, activation='sigmoid', name='main_output')(x)"
   ]
  },
  {
   "cell_type": "code",
   "execution_count": 3,
   "metadata": {},
   "outputs": [
    {
     "name": "stderr",
     "output_type": "stream",
     "text": [
      "W1110 19:01:44.499846   860 deprecation_wrapper.py:119] From C:\\Users\\jdeha\\Anaconda3\\envs\\keras\\lib\\site-packages\\keras\\optimizers.py:790: The name tf.train.Optimizer is deprecated. Please use tf.compat.v1.train.Optimizer instead.\n",
      "\n",
      "W1110 19:01:44.522175   860 deprecation_wrapper.py:119] From C:\\Users\\jdeha\\Anaconda3\\envs\\keras\\lib\\site-packages\\keras\\backend\\tensorflow_backend.py:3376: The name tf.log is deprecated. Please use tf.math.log instead.\n",
      "\n",
      "W1110 19:01:44.526175   860 deprecation.py:323] From C:\\Users\\jdeha\\Anaconda3\\envs\\keras\\lib\\site-packages\\tensorflow\\python\\ops\\nn_impl.py:180: add_dispatch_support.<locals>.wrapper (from tensorflow.python.ops.array_ops) is deprecated and will be removed in a future version.\n",
      "Instructions for updating:\n",
      "Use tf.where in 2.0, which has the same broadcast rule as np.where\n"
     ]
    }
   ],
   "source": [
    "model = Model(inputs=[main_input, addtl_input], outputs=[main_output, addtl_output])\n",
    "model.compile(optimizer='rmsprop', loss='binary_crossentropy',\n",
    "              loss_weights=[1., 0.2])"
   ]
  },
  {
   "cell_type": "markdown",
   "metadata": {},
   "source": [
    "Let's simulate some data to test this out"
   ]
  },
  {
   "cell_type": "code",
   "execution_count": 6,
   "metadata": {},
   "outputs": [
    {
     "name": "stdout",
     "output_type": "stream",
     "text": [
      "Epoch 1/10\n",
      "12/12 [==============================] - 0s 23ms/step - loss: 2.0156 - main_output_loss: 2.6169 - addtl_output_loss: -3.0066\n",
      "Epoch 2/10\n",
      "12/12 [==============================] - 0s 35ms/step - loss: -0.6303 - main_output_loss: -0.0807 - addtl_output_loss: -2.7482\n",
      "Epoch 3/10\n",
      "12/12 [==============================] - 0s 34ms/step - loss: -2.0234 - main_output_loss: -1.4944 - addtl_output_loss: -2.6450\n",
      "Epoch 4/10\n",
      "12/12 [==============================] - 0s 16ms/step - loss: -3.4635 - main_output_loss: -3.0862 - addtl_output_loss: -1.8869\n",
      "Epoch 5/10\n",
      "12/12 [==============================] - 0s 34ms/step - loss: -3.5941 - main_output_loss: -3.2432 - addtl_output_loss: -1.7547\n",
      "Epoch 6/10\n",
      "12/12 [==============================] - 0s 37ms/step - loss: -5.0709 - main_output_loss: -4.7022 - addtl_output_loss: -1.8437\n",
      "Epoch 7/10\n",
      "12/12 [==============================] - 0s 23ms/step - loss: -3.0389 - main_output_loss: -2.5474 - addtl_output_loss: -2.4574\n",
      "Epoch 8/10\n",
      "12/12 [==============================] - 0s 23ms/step - loss: -5.0391 - main_output_loss: -4.6493 - addtl_output_loss: -1.9490\n",
      "Epoch 9/10\n",
      "12/12 [==============================] - 0s 35ms/step - loss: -6.3176 - main_output_loss: -5.8965 - addtl_output_loss: -2.1054\n",
      "Epoch 10/10\n",
      "12/12 [==============================] - 0s 24ms/step - loss: -6.9583 - main_output_loss: -6.5496 - addtl_output_loss: -2.0435\n"
     ]
    },
    {
     "data": {
      "text/plain": [
       "<keras.callbacks.History at 0x1d6434f1c48>"
      ]
     },
     "execution_count": 6,
     "metadata": {},
     "output_type": "execute_result"
    }
   ],
   "source": [
    "headline_data = np.round(np.abs(np.random.rand(12, 100) * 100))\n",
    "additional_data = np.random.randn(12, 5)\n",
    "headline_labels = np.random.randn(12, 1)\n",
    "additional_labels = np.random.randn(12, 1)\n",
    "model.fit([headline_data, additional_data], [headline_labels, additional_labels], epochs=10, batch_size=32)"
   ]
  },
  {
   "cell_type": "code",
   "execution_count": 7,
   "metadata": {},
   "outputs": [
    {
     "data": {
      "text/plain": [
       "[array([[9.9862969e-01],\n",
       "        [5.1328790e-01],\n",
       "        [5.2889287e-03],\n",
       "        [2.6221490e-01],\n",
       "        [0.0000000e+00],\n",
       "        [2.9802322e-08],\n",
       "        [0.0000000e+00],\n",
       "        [0.0000000e+00],\n",
       "        [6.7845100e-01],\n",
       "        [0.0000000e+00],\n",
       "        [2.0861626e-07],\n",
       "        [0.0000000e+00]], dtype=float32), array([[0.32905042],\n",
       "        [0.11721784],\n",
       "        [0.11697972],\n",
       "        [0.04524976],\n",
       "        [0.00246167],\n",
       "        [0.00297764],\n",
       "        [0.00334498],\n",
       "        [0.00152788],\n",
       "        [0.22368217],\n",
       "        [0.00263366],\n",
       "        [0.0028528 ],\n",
       "        [0.00243452]], dtype=float32)]"
      ]
     },
     "execution_count": 7,
     "metadata": {},
     "output_type": "execute_result"
    }
   ],
   "source": [
    "model.predict({'main_input': headline_data, 'addtl_input': additional_data})"
   ]
  },
  {
   "cell_type": "code",
   "execution_count": null,
   "metadata": {},
   "outputs": [],
   "source": []
  }
 ],
 "metadata": {
  "kernelspec": {
   "display_name": "Python 3",
   "language": "python",
   "name": "python3"
  },
  "language_info": {
   "codemirror_mode": {
    "name": "ipython",
    "version": 3
   },
   "file_extension": ".py",
   "mimetype": "text/x-python",
   "name": "python",
   "nbconvert_exporter": "python",
   "pygments_lexer": "ipython3",
   "version": "3.7.4"
  }
 },
 "nbformat": 4,
 "nbformat_minor": 2
}
